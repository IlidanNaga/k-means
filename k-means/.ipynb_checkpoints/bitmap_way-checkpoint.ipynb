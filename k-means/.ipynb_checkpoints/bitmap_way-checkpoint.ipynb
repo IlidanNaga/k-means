{
 "cells": [
  {
   "cell_type": "code",
   "execution_count": null,
   "metadata": {},
   "outputs": [],
   "source": [
    "# init\n",
    "\n",
    "import numpy as np\n",
    "import matplotlib.pyplot as plt\n",
    "from matplotlib import cm\n",
    "\n",
    "import math"
   ]
  },
  {
   "cell_type": "code",
   "execution_count": null,
   "metadata": {},
   "outputs": [],
   "source": [
    "# constant init\n",
    "\n",
    "area_size = 10\n",
    "cen_am = 4"
   ]
  },
  {
   "cell_type": "code",
   "execution_count": null,
   "metadata": {},
   "outputs": [],
   "source": [
    "# bitmap will be clone of web + web_associations (first idea)\n",
    "\n",
    "web = np.concatenate([np.full(2 * area_size + 1, -1 * area_size), -1 * np.arange(2 * area_size + 1) + area_size])\n",
    "                      \n",
    "web = web.reshape(2, -1).T\n",
    "\n",
    "dots_am = (2 * area_size + 1) ** 2\n",
    "dots_line = 2 * area_size + 1\n",
    "\n",
    "for i in range(2 * area_size):\n",
    "    \n",
    "    j = i - area_size + 1\n",
    "    \n",
    "    web_add = np.concatenate([np.full(2 * area_size + 1, j), -1 * np.arange(2 * area_size + 1) + area_size])\n",
    "    web_add = web_add.reshape(2, -1).T\n",
    "    \n",
    "    web = np.concatenate([web, web_add])\n",
    "\n",
    "web_associate = np.full(dots_am, 0)\n",
    "\n",
    "web"
   ]
  }
 ],
 "metadata": {
  "kernelspec": {
   "display_name": "Python 3",
   "language": "python",
   "name": "python3"
  },
  "language_info": {
   "codemirror_mode": {
    "name": "ipython",
    "version": 3
   },
   "file_extension": ".py",
   "mimetype": "text/x-python",
   "name": "python",
   "nbconvert_exporter": "python",
   "pygments_lexer": "ipython3",
   "version": "3.7.0"
  }
 },
 "nbformat": 4,
 "nbformat_minor": 2
}
