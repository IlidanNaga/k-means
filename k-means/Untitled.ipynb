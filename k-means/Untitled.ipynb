{
 "cells": [
  {
   "cell_type": "code",
   "execution_count": 27,
   "metadata": {},
   "outputs": [
    {
     "data": {
      "text/plain": [
       "array([[ 7.07, -9.61],\n",
       "       [ 0.12,  6.14],\n",
       "       [-6.36, -9.59],\n",
       "       [-8.39, -5.6 ]])"
      ]
     },
     "execution_count": 27,
     "metadata": {},
     "output_type": "execute_result"
    }
   ],
   "source": [
    "import numpy as np\n",
    "import matplotlib.pyplot as plt\n",
    "from matplotlib import cm\n",
    "import math\n",
    "\n",
    "def leng(x,y):\n",
    "    \n",
    "    z = x - y\n",
    "    z **= 2\n",
    "    res = 0\n",
    "    \n",
    "    for i in z:\n",
    "        res +=i\n",
    "        \n",
    "    return math.sqrt(res)\n",
    "\n",
    "centers_am = 4\n",
    "amount = 200\n",
    "rang = 10\n",
    "precise = 2\n",
    "directions = 2\n",
    "\n",
    "\n",
    "centers = (np.empty(centers_am * directions)).reshape(-1, directions)\n",
    "\n",
    "for i in range(centers_am):\n",
    "    \n",
    "    for j in range(directions):\n",
    "        \n",
    "        centers[i][j] = np.round(np.random.uniform(-1 * rang, rang), precise)\n",
    "\n",
    "centers"
   ]
  },
  {
   "cell_type": "code",
   "execution_count": 28,
   "metadata": {},
   "outputs": [
    {
     "data": {
      "text/plain": [
       "array([[ 0.  , 17.22, 13.43, 15.97],\n",
       "       [17.22,  0.  , 17.01, 14.5 ],\n",
       "       [13.43, 17.01,  0.  ,  4.48],\n",
       "       [15.97, 14.5 ,  4.48,  0.  ]])"
      ]
     },
     "execution_count": 28,
     "metadata": {},
     "output_type": "execute_result"
    }
   ],
   "source": [
    "len = (np.empty(centers_am ** 2)).reshape(centers_am, -1)\n",
    "\n",
    "for i in range(centers_am):\n",
    "    \n",
    "    for j in range(centers_am):\n",
    "        \n",
    "        len[i][j] = leng(centers[i],centers[j])\n",
    "        \n",
    "len = np.round(len, 2)\n",
    "\n",
    "\n",
    "        \n",
    "        "
   ]
  },
  {
   "cell_type": "code",
   "execution_count": 16,
   "metadata": {},
   "outputs": [
    {
     "name": "stdout",
     "output_type": "stream",
     "text": [
      "13\n"
     ]
    }
   ],
   "source": [
    "arr = np.array([2,3])\n",
    "\n",
    "arr **= 2\n",
    "\n",
    "print(arr[0]+arr[1])"
   ]
  },
  {
   "cell_type": "code",
   "execution_count": null,
   "metadata": {},
   "outputs": [],
   "source": []
  }
 ],
 "metadata": {
  "kernelspec": {
   "display_name": "Python 3",
   "language": "python",
   "name": "python3"
  },
  "language_info": {
   "codemirror_mode": {
    "name": "ipython",
    "version": 3
   },
   "file_extension": ".py",
   "mimetype": "text/x-python",
   "name": "python",
   "nbconvert_exporter": "python",
   "pygments_lexer": "ipython3",
   "version": "3.7.0"
  }
 },
 "nbformat": 4,
 "nbformat_minor": 2
}
