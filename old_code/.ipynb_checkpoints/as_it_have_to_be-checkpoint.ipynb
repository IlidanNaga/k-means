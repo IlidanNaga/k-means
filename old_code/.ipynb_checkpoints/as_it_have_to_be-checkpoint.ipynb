{
 "cells": [
  {
   "cell_type": "code",
   "execution_count": 25,
   "metadata": {},
   "outputs": [],
   "source": [
    "#init\n",
    "\n",
    "import numpy as np\n",
    "import matplotlib.pyplot as plt\n",
    "from matplotlib import cm\n",
    "import math\n",
    "\n",
    "def distantion(x,y):\n",
    "    \n",
    "    z = x - y\n",
    "    z **= 2\n",
    "    return math.sqrt(z.sum())\n",
    "\n",
    "poi_am = 100      # amount of points needed to be generated\n",
    "pl_size = 15      # size of our R^2 zone, will be +- plane_size all dimensions \n",
    "prec = 2        # cutting the numbers n signs after .\n",
    "dim = 2       # amount of dimensions\n",
    "\n",
    "cen_am = 7    # amount of centers of pre-generated groups"
   ]
  },
  {
   "cell_type": "code",
   "execution_count": 26,
   "metadata": {},
   "outputs": [
    {
     "data": {
      "text/plain": [
       "array([[  4.93,  19.17],\n",
       "       [ 13.8 ,   2.53],\n",
       "       [ -5.42,  15.8 ],\n",
       "       [  2.81,   0.78],\n",
       "       [ 11.41,  10.62],\n",
       "       [ -4.98,   7.37],\n",
       "       [ 17.03,  -8.2 ],\n",
       "       [ -1.14,  19.34],\n",
       "       [  0.75,  -9.08],\n",
       "       [ 19.51,  19.65],\n",
       "       [  8.5 ,  10.56],\n",
       "       [ 13.55, -15.  ],\n",
       "       [-10.92,   3.48],\n",
       "       [ -0.98,   8.35],\n",
       "       [-15.66,   6.67]])"
      ]
     },
     "execution_count": 26,
     "metadata": {},
     "output_type": "execute_result"
    }
   ],
   "source": [
    "#generating centers\n",
    "\n",
    "centers = (np.round(2 * pl_size * (0.5 - np.random.rand(cen_am * 2)), prec)).reshape(-1, dim)\n",
    "\n",
    "centers"
   ]
  },
  {
   "cell_type": "code",
   "execution_count": 27,
   "metadata": {},
   "outputs": [
    {
     "data": {
      "text/plain": [
       "array([[-20,  20],\n",
       "       [-20,  19],\n",
       "       [-20,  18],\n",
       "       ...,\n",
       "       [ 20, -18],\n",
       "       [ 20, -19],\n",
       "       [ 20, -20]])"
      ]
     },
     "execution_count": 27,
     "metadata": {},
     "output_type": "execute_result"
    }
   ],
   "source": [
    "#making web of dots of our planar zone\n",
    "#web_associate - associations for each dot, made this way for easement\n",
    "# how enumerating works - it goes in outer cycle of x from -10 to 10, inner cycle of y from 10 to -10\n",
    "# so, to find point [-5, 5] you'll have to add 21 * 5 for x and 5 for y\n",
    "# number for point (x,y) is 21 * (10 + x) + (10 - y)\n",
    "\n",
    "web = np.concatenate([np.full(2 * pl_size + 1, -1 * pl_size), -1 * np.arange(2 * pl_size + 1) + pl_size])\n",
    "                      \n",
    "web = web.reshape(2, -1).T\n",
    "\n",
    "dots_am = (2 * pl_size + 1) ** 2\n",
    "dots_line = 2 * pl_size + 1\n",
    "\n",
    "for i in range(2 * pl_size):\n",
    "    \n",
    "    j = i - pl_size + 1\n",
    "    \n",
    "    web_add = np.concatenate([np.full(2 * pl_size + 1, j), -1 * np.arange(2 * pl_size + 1) + pl_size])\n",
    "    web_add = web_add.reshape(2, -1).T\n",
    "    \n",
    "    web = np.concatenate([web, web_add])\n",
    "\n",
    "web_associate = np.full(dots_am, 0)\n",
    "\n",
    "web"
   ]
  },
  {
   "cell_type": "code",
   "execution_count": 28,
   "metadata": {},
   "outputs": [
    {
     "data": {
      "text/plain": [
       "array([15, 15, 15, ..., 12, 12, 12])"
      ]
     },
     "execution_count": 28,
     "metadata": {},
     "output_type": "execute_result"
    }
   ],
   "source": [
    "#associating web with centers\n",
    "\n",
    "for i in range(dots_am):\n",
    "    \n",
    "    curr = distantion(web[i], centers[0])\n",
    "    for j in range(cen_am):\n",
    "        \n",
    "        if distantion(web[i], centers[j]) <= curr:\n",
    "            \n",
    "            curr = distantion(web[i], centers[j])\n",
    "            web_associate[i] = j + 1\n",
    "\n",
    "for i in range(dots_am):\n",
    "\n",
    "    x = -1 * pl_size + int(i / dots_line)\n",
    "    y = pl_size - (i - int(i / dots_line) * dots_line)\n",
    "\n",
    "\n",
    "    if  web_associate[i] != 0:\n",
    "\n",
    "        j = dots_line * (pl_size + x + 1) + (pl_size - y)   # moving x by 1 to the right\n",
    "        k = dots_line * (pl_size + x) + (pl_size + 1 - y)   # moving y by 1 to the bottom\n",
    "\n",
    "        if x < pl_size and j < dots_am:\n",
    "            if web_associate[j] != 0 and web_associate[j] != web_associate[i]:\n",
    "\n",
    "                web_associate[i] = 0\n",
    "\n",
    "        if y > -1 * pl_size:\n",
    "\n",
    "            if web_associate[k] != 0 and web_associate[k] != web_associate[i]:\n",
    "\n",
    "                web_associate[i] = 0\n",
    "        \n",
    "web_associate"
   ]
  },
  {
   "cell_type": "code",
   "execution_count": 29,
   "metadata": {},
   "outputs": [],
   "source": [
    "#abusing the colormap to generate enought colors\n",
    "\n",
    "colors = [cm.hsv(i/(cen_am + 1)) for i in range(cen_am + 1)]\n"
   ]
  },
  {
   "cell_type": "code",
   "execution_count": 30,
   "metadata": {},
   "outputs": [
    {
     "data": {
      "image/png": "[encoded data removed]",
      "text/plain": [
       "<Figure size 432x288 with 1 Axes>"
      ]
     },
     "metadata": {
      "needs_background": "light"
     },
     "output_type": "display_data"
    }
   ],
   "source": [
    "#let's see if we got anything worth working with\n",
    "\n",
    "fig = plt.figure()\n",
    "\n",
    "for i in range(dots_am):\n",
    "    \n",
    "    plt.scatter(web[i][0], web[i][1], color = colors[web_associate[i]], edgecolors = 'w')\n",
    "    \n",
    "for i in range(cen_am):\n",
    "    \n",
    "    plt.scatter(centers[i][0], centers[i][1], color = 'black', edgecolors = 'w')\n",
    "    \n"
   ]
  },
  {
   "cell_type": "code",
   "execution_count": 164,
   "metadata": {},
   "outputs": [
    {
     "name": "stdout",
     "output_type": "stream",
     "text": [
      "[-12  -2]\n",
      "[-4  5] [-5  4]\n"
     ]
    }
   ],
   "source": [
    "# used just for tests\n",
    "\n",
    "x = -10 + int(110 / 21)\n",
    "y = 10 - (110 - int(110/21) * 21)\n",
    "\n",
    "j = dots_line * (pl_size + x + 1) + (pl_size - y)\n",
    "k = dots_line * (pl_size + x) + (pl_size +1 - y)\n",
    "\n",
    "print(web[21 * (10 + x) + (10 - y)])\n",
    "print(web[j], web[k])"
   ]
  },
  {
   "cell_type": "code",
   "execution_count": 16,
   "metadata": {},
   "outputs": [
    {
     "data": {
      "text/plain": [
       "array([[9.01, 9.28]])"
      ]
     },
     "execution_count": 16,
     "metadata": {},
     "output_type": "execute_result"
    }
   ],
   "source": [
    "# starting building points\n",
    "\n",
    "points = np.round(2 * pl_size * (0.5 - np.random.rand(2)), prec).reshape(-1, 2)\n",
    "\n",
    "poin"
   ]
  },
  {
   "cell_type": "code",
   "execution_count": null,
   "metadata": {},
   "outputs": [],
   "source": []
  }
 ],
 "metadata": {
  "kernelspec": {
   "display_name": "Python 3",
   "language": "python",
   "name": "python3"
  },
  "language_info": {
   "codemirror_mode": {
    "name": "ipython",
    "version": 3
   },
   "file_extension": ".py",
   "mimetype": "text/x-python",
   "name": "python",
   "nbconvert_exporter": "python",
   "pygments_lexer": "ipython3",
   "version": "3.7.0"
  }
 },
 "nbformat": 4,
 "nbformat_minor": 2
}
